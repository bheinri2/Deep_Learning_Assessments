{
  "nbformat": 4,
  "nbformat_minor": 0,
  "metadata": {
    "kernelspec": {
      "display_name": "Python 3",
      "language": "python",
      "name": "python3"
    },
    "language_info": {
      "codemirror_mode": {
        "name": "ipython",
        "version": 3
      },
      "file_extension": ".py",
      "mimetype": "text/x-python",
      "name": "python",
      "nbconvert_exporter": "python",
      "pygments_lexer": "ipython3",
      "version": "3.6.6"
    },
    "colab": {
      "name": "Copy of AIT-Deep-learning-Assigment-3",
      "provenance": [],
      "collapsed_sections": [],
      "include_colab_link": true
    }
  },
  "cells": [
    {
      "cell_type": "markdown",
      "metadata": {
        "id": "view-in-github",
        "colab_type": "text"
      },
      "source": [
        "<a href=\"https://colab.research.google.com/github/bheinri2/Deep_Learning_Assessments/blob/main/Copy_of_AIT_Deep_learning_Assigment_3.ipynb\" target=\"_parent\"><img src=\"https://colab.research.google.com/assets/colab-badge.svg\" alt=\"Open In Colab\"/></a>"
      ]
    },
    {
      "cell_type": "markdown",
      "metadata": {
        "id": "_jiGtJu6u9ml"
      },
      "source": [
        "# Copyright\n",
        "\n",
        "<PRE>\n",
        "Copyright (c) 2021 Bálint Gyires-Tóth - All Rights Reserved\n",
        "You may use and modify this code for research and development purpuses.\n",
        "Use this code for educational purposes (self-paced or instructor led) without the permission of the author is prohibited.\n",
        "</PRE>"
      ]
    },
    {
      "cell_type": "markdown",
      "metadata": {
        "id": "oXyFC44jV-PP"
      },
      "source": [
        "# Author classification\n",
        "The task is to train a 1D CNN or an LSTM that is able to  classify text from two authors. The final model should be able to tell about a text with a given length (e.g. 60 characters) who wrote it. \n",
        "\n",
        "Please write the codes according to the following parts:"
      ]
    },
    {
      "cell_type": "markdown",
      "metadata": {
        "id": "jCnLoeGrHXsp"
      },
      "source": [
        "## Python module imports\n",
        "Import all Python modules that you would need during the Assignment."
      ]
    },
    {
      "cell_type": "code",
      "metadata": {
        "id": "7itbFGt3HXVT"
      },
      "source": [
        "from tensorflow.keras.models import Sequential\n",
        "from tensorflow.keras.layers import Activation, Dense, Flatten, Conv1D, MaxPooling1D\n",
        "from tensorflow.keras.layers import LSTM\n",
        "from tensorflow.keras.optimizers import SGD, Adam\n",
        "from tensorflow.keras.optimizers import RMSprop\n",
        "from tensorflow.keras.callbacks import EarlyStopping\n",
        "import matplotlib.pyplot as plt\n",
        "import seaborn as sns\n",
        "import pandas as pd\n",
        "from sklearn.model_selection import train_test_split\n",
        "from urllib.request import urlretrieve\n",
        "import numpy as np\n",
        "import random"
      ],
      "execution_count": 24,
      "outputs": []
    },
    {
      "cell_type": "markdown",
      "metadata": {
        "id": "Hr617tEpHd8R"
      },
      "source": [
        "## Data acquisition\n",
        "Seek a possible dataset, you can use any source, e.g.\n",
        "* http://www.gutenberg.org/\n",
        "* https://www.kaggle.com/datasets\n",
        "* https://paperswithcode.com/datasets\n",
        "* if you would like to learn Hungarian, than e.g. https://mek.oszk.hu/\n",
        "\n",
        "You can download the text by hand (e.g. by copy-pasting some parts into txt files) or with Python. "
      ]
    },
    {
      "cell_type": "code",
      "metadata": {
        "id": "NgkdQxHqHdZB",
        "colab": {
          "base_uri": "https://localhost:8080/"
        },
        "outputId": "7eae9863-8997-4f45-b7ba-070acafc2b69"
      },
      "source": [
        "author_1_url = \"https://www.gutenberg.org/cache/epub/67915/pg67915.txt\"\n",
        "author_2_url = \"https://www.gutenberg.org/cache/epub/67912/pg67912.txt\"\n",
        "\n",
        "urlretrieve(author_1_url, 'Lawrence.txt')\n",
        "urlretrieve(author_2_url, 'Farr.txt')\n",
        "\n",
        "text1 = open(\"Lawrence.txt\", encoding='utf-8').read().lower()\n",
        "text2 = open(\"Farr.txt\", encoding='utf-8').read().lower()\n",
        "\n",
        "print('Number of characters in the Lawrence text:', len(text1))\n",
        "print('Number of characters in the Farr text:', len(text2))\n",
        "min_length = min([len(text1), len(text2)])\n",
        "text1 = text1[:min_length]\n",
        "text2 = text2[:min_length]"
      ],
      "execution_count": 11,
      "outputs": [
        {
          "output_type": "stream",
          "name": "stdout",
          "text": [
            "Number of characters in the Lawrence text: 55528\n",
            "Number of characters in the Farr text: 110880\n"
          ]
        }
      ]
    },
    {
      "cell_type": "markdown",
      "source": [
        "## Data analysis\n",
        "Count the number of characters from both authors and display them on a plot (e.g. Seaborn's countplot)."
      ],
      "metadata": {
        "id": "U9Pmq91t3SRD"
      }
    },
    {
      "cell_type": "code",
      "source": [
        "num_chars_1 = len(text1)\n",
        "num_chars_2 = len(text2)\n",
        "x = ['Lawrence', 'Farr']\n",
        "y = [num_chars_1, num_chars_2]\n",
        "\n",
        "\n",
        "fig = plt.figure()\n",
        "axes = fig.add_axes([0,0,1,1])\n",
        "\n",
        "axes.bar(x,y)\n",
        "plt.xlabel('Authors')\n",
        "plt.ylabel('Number of Characters')\n",
        "\n",
        "plt.show()"
      ],
      "metadata": {
        "id": "uRqGdn4F3Spk",
        "colab": {
          "base_uri": "https://localhost:8080/",
          "height": 350
        },
        "outputId": "9c4fc5b3-b786-4081-950a-3ae530462d2a"
      },
      "execution_count": 18,
      "outputs": [
        {
          "output_type": "display_data",
          "data": {
            "text/plain": [
              "<Figure size 432x288 with 1 Axes>"
            ],
            "image/png": "[encoded data removed]"
          },
          "metadata": {
            "needs_background": "light"
          }
        }
      ]
    },
    {
      "cell_type": "markdown",
      "metadata": {
        "id": "cHyE_ndGIblJ"
      },
      "source": [
        "## Data loading, labeling and preprocessing\n",
        "Load the data and convert the characters into one-hot encodings. Then load the data into a 3D NumPy array, with a shape of\n",
        "\n",
        "* (batch, sequence_length, alphabet_length)\n",
        "\n",
        "where sequence_length=60, and alphabet_length equals to the number of unique characters in both datasets. The sequences should be cut out from the complete dataset by sliding window. You should add 0 and 1 labels to the sequences, according to the author. \n",
        "\n",
        "Later you may change sequence_length to achieve better results!"
      ]
    },
    {
      "cell_type": "code",
      "metadata": {
        "id": "arooXt0WIb6x",
        "colab": {
          "base_uri": "https://localhost:8080/"
        },
        "outputId": "ac33d933-e9d2-46dd-cda9-3d27bd94b2bb"
      },
      "source": [
        "# Load data, convert chars to one hot encoding\n",
        "\n",
        "chars1 = sorted(list(set(text1)))\n",
        "chars2 = sorted(list(set(text2)))\n",
        "\n",
        "sequence_length = 60\n",
        "chars_total = list(set(chars1 + chars2))\n",
        "print(len(chars1))\n",
        "print(len(chars2))\n",
        "print(len(chars_total))\n",
        "alphabet_length = len(chars_total)\n",
        "\n",
        "\n",
        "char_indices = dict((c, i) for i, c in enumerate(chars_total))\n",
        "indices_char = dict((i, c) for i, c in enumerate(chars_total))\n",
        "\n",
        "# Load data into 3D numpy array\n",
        "sentences = []\n",
        "author_labels = [] # 0 for Lawrence, 1 for Farr\n",
        "\n",
        "for i in range(0, len(text1)-sequence_length):\n",
        "    sentences.append(text1[i:i + sequence_length])\n",
        "    author_labels.append(0)\n",
        "\n",
        "for i in range(0, len(text2)-sequence_length):\n",
        "    sentences.append(text2[i:i + sequence_length])\n",
        "    author_labels.append(1)\n",
        "\n",
        "print(sentences[5000], author_labels[5000])\n",
        "print('Number of training samples:', len(sentences))\n",
        "\n",
        "X = np.zeros((len(sentences), sequence_length, len(chars_total)))\n",
        "y = np.zeros(len(sentences))\n",
        "\n",
        "for i, sentence in enumerate(sentences):\n",
        "  for c, char in enumerate(sentence):\n",
        "    X[i, c, char_indices[char]] = 1\n",
        "    y[i] = author_labels[i]\n",
        "\n",
        "print(X.shape)\n",
        "print(y.shape)"
      ],
      "execution_count": 22,
      "outputs": [
        {
          "output_type": "stream",
          "name": "stdout",
          "text": [
            "60\n",
            "63\n",
            "68\n",
            " the desire sprang secretly in her, to go naked in the sun.  0\n",
            "Number of training samples: 110936\n",
            "(110936, 60, 68)\n",
            "(110936,)\n"
          ]
        }
      ]
    },
    {
      "cell_type": "markdown",
      "metadata": {
        "id": "lL1Mc8ibHnep"
      },
      "source": [
        "## Data splitting\n",
        "Split the data into train, validate and test sets."
      ]
    },
    {
      "cell_type": "code",
      "metadata": {
        "id": "ELyG9XFUHrkB"
      },
      "source": [
        "x_train, x_test, y_train, y_test = train_test_split(X, y, test_size = 0.7)"
      ],
      "execution_count": 25,
      "outputs": []
    },
    {
      "cell_type": "markdown",
      "metadata": {
        "id": "hA8U9tr7HrNQ"
      },
      "source": [
        "## Model definition\n",
        "Define a 1D CNN or an LSTM for the task. Compile the model with the correct loss function."
      ]
    },
    {
      "cell_type": "code",
      "metadata": {
        "id": "BT1V1s4kHuUe",
        "colab": {
          "base_uri": "https://localhost:8080/"
        },
        "outputId": "ac241c65-da86-46e8-82fd-b85b38d48130"
      },
      "source": [
        "model = Sequential()\n",
        "model.add(LSTM(64, input_shape=(X.shape[1],X.shape[2],)))\n",
        "model.add(Dense(1))\n",
        "model.add(Activation('sigmoid'))\n",
        "\n",
        "optimizer = RMSprop(lr=0.01)\n",
        "model.compile(loss='binary_crossentropy', optimizer='adam')"
      ],
      "execution_count": 26,
      "outputs": [
        {
          "output_type": "stream",
          "name": "stderr",
          "text": [
            "/usr/local/lib/python3.7/dist-packages/keras/optimizer_v2/rmsprop.py:130: UserWarning: The `lr` argument is deprecated, use `learning_rate` instead.\n",
            "  super(RMSprop, self).__init__(name, **kwargs)\n"
          ]
        }
      ]
    },
    {
      "cell_type": "code",
      "source": [
        ""
      ],
      "metadata": {
        "id": "iWYF3ZJicFCL"
      },
      "execution_count": null,
      "outputs": []
    },
    {
      "cell_type": "markdown",
      "metadata": {
        "id": "hWFb-nAMHuAI"
      },
      "source": [
        "## Model training\n",
        "Train the model and apply early stopping."
      ]
    },
    {
      "cell_type": "code",
      "metadata": {
        "id": "dvgKjqp3Hwkp",
        "colab": {
          "base_uri": "https://localhost:8080/"
        },
        "outputId": "a0068e90-04ee-4fce-beca-2472ad0134f2"
      },
      "source": [
        "es = EarlyStopping(patience=3, restore_best_weights=True, monitor='val_loss') # Early stopping\n",
        "\n",
        "network_history = model.fit(x_train, y_train, batch_size=128, \n",
        "                            epochs=20, verbose=1, validation_split=0.2, \n",
        "                            callbacks=[es])"
      ],
      "execution_count": 28,
      "outputs": [
        {
          "output_type": "stream",
          "name": "stdout",
          "text": [
            "Epoch 1/20\n",
            "208/208 [==============================] - 15s 70ms/step - loss: 0.2237 - val_loss: 0.2117\n",
            "Epoch 2/20\n",
            "208/208 [==============================] - 14s 70ms/step - loss: 0.1966 - val_loss: 0.1827\n",
            "Epoch 3/20\n",
            "208/208 [==============================] - 14s 69ms/step - loss: 0.1666 - val_loss: 0.1634\n",
            "Epoch 4/20\n",
            "208/208 [==============================] - 15s 70ms/step - loss: 0.1416 - val_loss: 0.1374\n",
            "Epoch 5/20\n",
            "208/208 [==============================] - 16s 75ms/step - loss: 0.1266 - val_loss: 0.1293\n",
            "Epoch 6/20\n",
            "208/208 [==============================] - 15s 70ms/step - loss: 0.1026 - val_loss: 0.1182\n",
            "Epoch 7/20\n",
            "208/208 [==============================] - 14s 70ms/step - loss: 0.0864 - val_loss: 0.1159\n",
            "Epoch 8/20\n",
            "208/208 [==============================] - 15s 73ms/step - loss: 0.0678 - val_loss: 0.0721\n",
            "Epoch 9/20\n",
            "208/208 [==============================] - 15s 70ms/step - loss: 0.0618 - val_loss: 0.0642\n",
            "Epoch 10/20\n",
            "208/208 [==============================] - 14s 69ms/step - loss: 0.0535 - val_loss: 0.0554\n",
            "Epoch 11/20\n",
            "208/208 [==============================] - 15s 70ms/step - loss: 0.0431 - val_loss: 0.0632\n",
            "Epoch 12/20\n",
            "208/208 [==============================] - 15s 70ms/step - loss: 0.0456 - val_loss: 0.0551\n",
            "Epoch 13/20\n",
            "208/208 [==============================] - 15s 70ms/step - loss: 0.0409 - val_loss: 0.0550\n",
            "Epoch 14/20\n",
            "208/208 [==============================] - 14s 70ms/step - loss: 0.0313 - val_loss: 0.0496\n",
            "Epoch 15/20\n",
            "208/208 [==============================] - 15s 70ms/step - loss: 0.0309 - val_loss: 0.0476\n",
            "Epoch 16/20\n",
            "208/208 [==============================] - 15s 70ms/step - loss: 0.0275 - val_loss: 0.0384\n",
            "Epoch 17/20\n",
            "208/208 [==============================] - 15s 70ms/step - loss: 0.0264 - val_loss: 0.0529\n",
            "Epoch 18/20\n",
            "208/208 [==============================] - 15s 70ms/step - loss: 0.0249 - val_loss: 0.0682\n",
            "Epoch 19/20\n",
            "208/208 [==============================] - 15s 70ms/step - loss: 0.0244 - val_loss: 0.0314\n",
            "Epoch 20/20\n",
            "208/208 [==============================] - 15s 70ms/step - loss: 0.0183 - val_loss: 0.0590\n"
          ]
        }
      ]
    },
    {
      "cell_type": "markdown",
      "metadata": {
        "id": "0omw2XzSHwOo"
      },
      "source": [
        "## Evaluation on test data\n",
        "Evaluate the model on the test data in terms of loss and accuracy."
      ]
    },
    {
      "cell_type": "code",
      "metadata": {
        "id": "4bF3dQA1Hv_R",
        "colab": {
          "base_uri": "https://localhost:8080/"
        },
        "outputId": "f8d9d812-e968-430a-82e9-469131fef887"
      },
      "source": [
        "print(model.evaluate(x_test, y_test))"
      ],
      "execution_count": 29,
      "outputs": [
        {
          "output_type": "stream",
          "name": "stdout",
          "text": [
            "2427/2427 [==============================] - 35s 14ms/step - loss: 0.0566\n",
            "0.056645315140485764\n"
          ]
        }
      ]
    },
    {
      "cell_type": "markdown",
      "metadata": {
        "id": "4Y73Q-h5Hz1r"
      },
      "source": [
        "## Confusion matrix\n",
        "Calculate and display the confusion matrix."
      ]
    },
    {
      "cell_type": "code",
      "metadata": {
        "id": "cW8zZi1uJm2B",
        "colab": {
          "base_uri": "https://localhost:8080/",
          "height": 314
        },
        "outputId": "d3180a9b-2241-4ef9-996b-ec8ea93e783c"
      },
      "source": [
        "from sklearn.metrics import confusion_matrix\n",
        "\n",
        "preds = model.predict(x_test)\n",
        "y_pred = np.round(preds)\n",
        "\n",
        "conf=confusion_matrix(y_test, y_pred)\n",
        "print(conf)\n",
        "\n",
        "import seaborn as sns\n",
        "ax = sns.heatmap(conf, annot=True, fmt='d', cmap='Blues') \n",
        "ax.set(xlabel='Predicted Label',\n",
        "       ylabel='True label');"
      ],
      "execution_count": 30,
      "outputs": [
        {
          "output_type": "stream",
          "name": "stdout",
          "text": [
            "[[37572  1148]\n",
            " [  405 38531]]\n"
          ]
        },
        {
          "output_type": "display_data",
          "data": {
            "text/plain": [
              "<Figure size 432x288 with 2 Axes>"
            ],
            "image/png": "[encoded data removed]"
          },
          "metadata": {
            "needs_background": "light"
          }
        }
      ]
    },
    {
      "cell_type": "code",
      "source": [
        ""
      ],
      "metadata": {
        "id": "dMpMxXs0iiPQ"
      },
      "execution_count": null,
      "outputs": []
    }
  ]
}